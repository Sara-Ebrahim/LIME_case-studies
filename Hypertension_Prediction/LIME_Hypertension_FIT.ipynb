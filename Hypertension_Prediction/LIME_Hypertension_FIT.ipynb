{
 "cells": [
  {
   "cell_type": "markdown",
   "metadata": {},
   "source": [
    "# LIME Explanation for Hypertension Detection\n",
    "In this notebook, we will walk through interpreting a machine learning problem (predicting the risk of developing hypertension) using records of the Cardiorespiratory Fitness dataset from the Henry Ford Testing (FIT) Project."
   ]
  },
  {
   "cell_type": "code",
   "execution_count": 1,
   "metadata": {},
   "outputs": [],
   "source": [
    "# Pandas and numpy for data manipulation\n",
    "import pandas as pd\n",
    "import numpy as np\n",
    "import matplotlib.pyplot as plt\n",
    "%matplotlib inline\n",
    "pd.options.mode.chained_assignment = None"
   ]
  },
  {
   "cell_type": "markdown",
   "metadata": {},
   "source": [
    "## Reading the Dataset"
   ]
  },
  {
   "cell_type": "code",
   "execution_count": 2,
   "metadata": {},
   "outputs": [
    {
     "data": {
      "text/html": [
       "<div>\n",
       "<style scoped>\n",
       "    .dataframe tbody tr th:only-of-type {\n",
       "        vertical-align: middle;\n",
       "    }\n",
       "\n",
       "    .dataframe tbody tr th {\n",
       "        vertical-align: top;\n",
       "    }\n",
       "\n",
       "    .dataframe thead th {\n",
       "        text-align: right;\n",
       "    }\n",
       "</style>\n",
       "<table border=\"1\" class=\"dataframe\">\n",
       "  <thead>\n",
       "    <tr style=\"text-align: right;\">\n",
       "      <th></th>\n",
       "      <th>studycode</th>\n",
       "      <th>age</th>\n",
       "      <th>sex</th>\n",
       "      <th>bmi</th>\n",
       "      <th>mets_achieved</th>\n",
       "      <th>mets_c</th>\n",
       "      <th>resting_heart_rt</th>\n",
       "      <th>resting_systolic</th>\n",
       "      <th>resting_diastolic</th>\n",
       "      <th>peak_heart_rt</th>\n",
       "      <th>...</th>\n",
       "      <th>aflutter2</th>\n",
       "      <th>warfarin2</th>\n",
       "      <th>obesity2</th>\n",
       "      <th>sedentary2</th>\n",
       "      <th>htnresponse</th>\n",
       "      <th>black</th>\n",
       "      <th>Model from logisitc regression</th>\n",
       "      <th>Framingham risk</th>\n",
       "      <th>CVDrisk</th>\n",
       "      <th>newHTN</th>\n",
       "    </tr>\n",
       "  </thead>\n",
       "  <tbody>\n",
       "    <tr>\n",
       "      <th>0</th>\n",
       "      <td>3</td>\n",
       "      <td>36.399727</td>\n",
       "      <td>Male</td>\n",
       "      <td>NaN</td>\n",
       "      <td>10.1</td>\n",
       "      <td>3</td>\n",
       "      <td>43</td>\n",
       "      <td>120</td>\n",
       "      <td>76</td>\n",
       "      <td>138</td>\n",
       "      <td>...</td>\n",
       "      <td>0</td>\n",
       "      <td>0</td>\n",
       "      <td>0</td>\n",
       "      <td>0</td>\n",
       "      <td>0</td>\n",
       "      <td>0</td>\n",
       "      <td>0.149920</td>\n",
       "      <td>0.027146</td>\n",
       "      <td>0.006353</td>\n",
       "      <td>0</td>\n",
       "    </tr>\n",
       "    <tr>\n",
       "      <th>1</th>\n",
       "      <td>6</td>\n",
       "      <td>77.314171</td>\n",
       "      <td>Female</td>\n",
       "      <td>NaN</td>\n",
       "      <td>1.8</td>\n",
       "      <td>1</td>\n",
       "      <td>73</td>\n",
       "      <td>118</td>\n",
       "      <td>70</td>\n",
       "      <td>128</td>\n",
       "      <td>...</td>\n",
       "      <td>0</td>\n",
       "      <td>0</td>\n",
       "      <td>0</td>\n",
       "      <td>0</td>\n",
       "      <td>0</td>\n",
       "      <td>1</td>\n",
       "      <td>0.593590</td>\n",
       "      <td>0.026011</td>\n",
       "      <td>0.183642</td>\n",
       "      <td>1</td>\n",
       "    </tr>\n",
       "    <tr>\n",
       "      <th>2</th>\n",
       "      <td>7</td>\n",
       "      <td>89.629021</td>\n",
       "      <td>Male</td>\n",
       "      <td>NaN</td>\n",
       "      <td>7.0</td>\n",
       "      <td>2</td>\n",
       "      <td>79</td>\n",
       "      <td>130</td>\n",
       "      <td>70</td>\n",
       "      <td>135</td>\n",
       "      <td>...</td>\n",
       "      <td>0</td>\n",
       "      <td>0</td>\n",
       "      <td>0</td>\n",
       "      <td>0</td>\n",
       "      <td>0</td>\n",
       "      <td>1</td>\n",
       "      <td>0.692585</td>\n",
       "      <td>0.455537</td>\n",
       "      <td>0.223481</td>\n",
       "      <td>0</td>\n",
       "    </tr>\n",
       "    <tr>\n",
       "      <th>3</th>\n",
       "      <td>9</td>\n",
       "      <td>46.885696</td>\n",
       "      <td>Female</td>\n",
       "      <td>NaN</td>\n",
       "      <td>12.9</td>\n",
       "      <td>4</td>\n",
       "      <td>78</td>\n",
       "      <td>136</td>\n",
       "      <td>96</td>\n",
       "      <td>168</td>\n",
       "      <td>...</td>\n",
       "      <td>0</td>\n",
       "      <td>0</td>\n",
       "      <td>0</td>\n",
       "      <td>0</td>\n",
       "      <td>0</td>\n",
       "      <td>0</td>\n",
       "      <td>0.377957</td>\n",
       "      <td>0.062413</td>\n",
       "      <td>0.018597</td>\n",
       "      <td>1</td>\n",
       "    </tr>\n",
       "    <tr>\n",
       "      <th>4</th>\n",
       "      <td>13</td>\n",
       "      <td>78.253250</td>\n",
       "      <td>Male</td>\n",
       "      <td>NaN</td>\n",
       "      <td>3.2</td>\n",
       "      <td>1</td>\n",
       "      <td>88</td>\n",
       "      <td>140</td>\n",
       "      <td>80</td>\n",
       "      <td>131</td>\n",
       "      <td>...</td>\n",
       "      <td>0</td>\n",
       "      <td>0</td>\n",
       "      <td>0</td>\n",
       "      <td>0</td>\n",
       "      <td>0</td>\n",
       "      <td>0</td>\n",
       "      <td>0.638435</td>\n",
       "      <td>0.525829</td>\n",
       "      <td>0.389451</td>\n",
       "      <td>0</td>\n",
       "    </tr>\n",
       "  </tbody>\n",
       "</table>\n",
       "<p>5 rows × 50 columns</p>\n",
       "</div>"
      ],
      "text/plain": [
       "   studycode        age     sex  bmi  mets_achieved  mets_c  resting_heart_rt  \\\n",
       "0          3  36.399727    Male  NaN           10.1       3                43   \n",
       "1          6  77.314171  Female  NaN            1.8       1                73   \n",
       "2          7  89.629021    Male  NaN            7.0       2                79   \n",
       "3          9  46.885696  Female  NaN           12.9       4                78   \n",
       "4         13  78.253250    Male  NaN            3.2       1                88   \n",
       "\n",
       "   resting_systolic  resting_diastolic  peak_heart_rt   ...    aflutter2  \\\n",
       "0               120                 76            138   ...            0   \n",
       "1               118                 70            128   ...            0   \n",
       "2               130                 70            135   ...            0   \n",
       "3               136                 96            168   ...            0   \n",
       "4               140                 80            131   ...            0   \n",
       "\n",
       "   warfarin2  obesity2  sedentary2  htnresponse black  \\\n",
       "0          0         0           0            0     0   \n",
       "1          0         0           0            0     1   \n",
       "2          0         0           0            0     1   \n",
       "3          0         0           0            0     0   \n",
       "4          0         0           0            0     0   \n",
       "\n",
       "   Model from logisitc regression  Framingham risk   CVDrisk  newHTN  \n",
       "0                        0.149920         0.027146  0.006353       0  \n",
       "1                        0.593590         0.026011  0.183642       1  \n",
       "2                        0.692585         0.455537  0.223481       0  \n",
       "3                        0.377957         0.062413  0.018597       1  \n",
       "4                        0.638435         0.525829  0.389451       0  \n",
       "\n",
       "[5 rows x 50 columns]"
      ]
     },
     "execution_count": 2,
     "metadata": {},
     "output_type": "execute_result"
    }
   ],
   "source": [
    "df = pd.read_csv('HTN.csv')\n",
    "df.head()"
   ]
  },
  {
   "cell_type": "markdown",
   "metadata": {},
   "source": [
    "## Data Preprocessing\n",
    "### Handling Missing Values"
   ]
  },
  {
   "cell_type": "code",
   "execution_count": 3,
   "metadata": {},
   "outputs": [],
   "source": [
    "null_idx = df[df['peak_diastolic'].isnull()].index.tolist()"
   ]
  },
  {
   "cell_type": "code",
   "execution_count": 4,
   "metadata": {},
   "outputs": [],
   "source": [
    "df['peak_diastolic'][df['peak_diastolic'].isnull()] = df['peak_diastolic'].mean()"
   ]
  },
  {
   "cell_type": "code",
   "execution_count": 5,
   "metadata": {
    "collapsed": true
   },
   "outputs": [
    {
     "data": {
      "text/plain": [
       "studycode                               1246\n",
       "age                                  69.3744\n",
       "sex                                     Male\n",
       "bmi                                      NaN\n",
       "mets_achieved                           10.1\n",
       "mets_c                                     3\n",
       "resting_heart_rt                          77\n",
       "resting_systolic                         120\n",
       "resting_diastolic                         80\n",
       "peak_heart_rt                            155\n",
       "peak_systolic                            190\n",
       "peak_diastolic                       81.8557\n",
       "percent_hr_achieved                  1.02649\n",
       "adequatestudy85                            1\n",
       "0rm_rest_ekg_flg                           1\n",
       "reason                            Arrhythmia\n",
       "aspirin                                    0\n",
       "statin                                     0\n",
       "other_lipid                                0\n",
       "all_lipid                                  0\n",
       "insulin                                    0\n",
       "dmmed                                      0\n",
       "depressionmed                              0\n",
       "smokingmeds                                0\n",
       "plavix                                     0\n",
       "nitrates                                   0\n",
       "edmeds                                     0\n",
       "dig                                        0\n",
       "lungdiseasemeds                            0\n",
       "dm                                         0\n",
       "hyperlipid                                 0\n",
       "famhx                                      0\n",
       "oldchf                                     0\n",
       "priorCVA                                   0\n",
       "smoke                                      0\n",
       "k0wncad                                    0\n",
       "mibefore                                   0\n",
       "cabgbefore                                 0\n",
       "pcibefore                                  0\n",
       "afib2                                      0\n",
       "aflutter2                                  0\n",
       "warfarin2                                  0\n",
       "obesity2                                   0\n",
       "sedentary2                                 0\n",
       "htnresponse                                0\n",
       "black                                      0\n",
       "Model from logisitc regression      0.418976\n",
       "Framingham risk                     0.126407\n",
       "CVDrisk                             0.147618\n",
       "newHTN                                     0\n",
       "Name: 350, dtype: object"
      ]
     },
     "execution_count": 5,
     "metadata": {},
     "output_type": "execute_result"
    }
   ],
   "source": [
    "df.iloc[null_idx[0]]"
   ]
  },
  {
   "cell_type": "markdown",
   "metadata": {},
   "source": [
    "### Outliers"
   ]
  },
  {
   "cell_type": "code",
   "execution_count": 6,
   "metadata": {},
   "outputs": [],
   "source": [
    "df_q1 = df.quantile(q=0.25)\n",
    "df_q3 = df.quantile(q=0.75)\n",
    "df_iqr = df_q3 - df_q1"
   ]
  },
  {
   "cell_type": "code",
   "execution_count": 7,
   "metadata": {},
   "outputs": [],
   "source": [
    "numeric_cols = ['age', 'mets_achieved', 'resting_systolic', 'resting_diastolic',\n",
    "       'peak_diastolic', 'hyperlipid', 'percent_hr_achieved']\n",
    "for col_name in numeric_cols:\n",
    "    col_mask = (df[col_name] >= (df_q1[col_name] - (1.5 * df_iqr[col_name]))) & (df[col_name] <= (df_q3[col_name] + (1.5 * df_iqr[col_name])))\n",
    "    df[col_name] = df[col_name][col_mask]"
   ]
  },
  {
   "cell_type": "code",
   "execution_count": 8,
   "metadata": {},
   "outputs": [],
   "source": [
    "# Select used columns only (features and target)\n",
    "df_all = df[[\"age\",\"mets_achieved\",\"resting_systolic\",\"resting_diastolic\",\"peak_diastolic\",\"reason\",\"htnresponse\",\"k0wncad\",\"dm\",\"aspirin\",\"hyperlipid\",\"black\",\"percent_hr_achieved\",\"newHTN\"]]"
   ]
  },
  {
   "cell_type": "code",
   "execution_count": 9,
   "metadata": {},
   "outputs": [
    {
     "name": "stdout",
     "output_type": "stream",
     "text": [
      "<class 'pandas.core.frame.DataFrame'>\n",
      "RangeIndex: 23095 entries, 0 to 23094\n",
      "Data columns (total 14 columns):\n",
      "age                    22925 non-null float64\n",
      "mets_achieved          23095 non-null float64\n",
      "resting_systolic       22789 non-null float64\n",
      "resting_diastolic      22969 non-null float64\n",
      "peak_diastolic         22827 non-null float64\n",
      "reason                 23095 non-null object\n",
      "htnresponse            23095 non-null int64\n",
      "k0wncad                23095 non-null int64\n",
      "dm                     23095 non-null int64\n",
      "aspirin                23095 non-null int64\n",
      "hyperlipid             23095 non-null int64\n",
      "black                  23095 non-null int64\n",
      "percent_hr_achieved    22233 non-null float64\n",
      "newHTN                 23095 non-null int64\n",
      "dtypes: float64(6), int64(7), object(1)\n",
      "memory usage: 2.5+ MB\n"
     ]
    }
   ],
   "source": [
    "df_all.info()"
   ]
  },
  {
   "cell_type": "code",
   "execution_count": 10,
   "metadata": {},
   "outputs": [],
   "source": [
    "df_all.dropna(inplace=True)"
   ]
  },
  {
   "cell_type": "code",
   "execution_count": 11,
   "metadata": {},
   "outputs": [
    {
     "name": "stdout",
     "output_type": "stream",
     "text": [
      "<class 'pandas.core.frame.DataFrame'>\n",
      "Int64Index: 21515 entries, 1 to 23094\n",
      "Data columns (total 14 columns):\n",
      "age                    21515 non-null float64\n",
      "mets_achieved          21515 non-null float64\n",
      "resting_systolic       21515 non-null float64\n",
      "resting_diastolic      21515 non-null float64\n",
      "peak_diastolic         21515 non-null float64\n",
      "reason                 21515 non-null object\n",
      "htnresponse            21515 non-null int64\n",
      "k0wncad                21515 non-null int64\n",
      "dm                     21515 non-null int64\n",
      "aspirin                21515 non-null int64\n",
      "hyperlipid             21515 non-null int64\n",
      "black                  21515 non-null int64\n",
      "percent_hr_achieved    21515 non-null float64\n",
      "newHTN                 21515 non-null int64\n",
      "dtypes: float64(6), int64(7), object(1)\n",
      "memory usage: 2.5+ MB\n"
     ]
    }
   ],
   "source": [
    "df_all.info()"
   ]
  },
  {
   "cell_type": "markdown",
   "metadata": {},
   "source": [
    "** Note: number of records after removing outliers = 21515 **"
   ]
  },
  {
   "cell_type": "markdown",
   "metadata": {},
   "source": [
    "### Discretization"
   ]
  },
  {
   "cell_type": "code",
   "execution_count": 12,
   "metadata": {},
   "outputs": [],
   "source": [
    "disc_cols = [\"age\",\"mets_achieved\",\"resting_systolic\",\"resting_diastolic\",\"peak_diastolic\",\"percent_hr_achieved\"]\n",
    "quantile_labels = [1, 2, 3, 4]\n",
    "quantile_list = [0, .25, .5, .75, 1.]"
   ]
  },
  {
   "cell_type": "code",
   "execution_count": 13,
   "metadata": {},
   "outputs": [],
   "source": [
    "for col_name in disc_cols:\n",
    "    df_all[col_name] = pd.qcut(df_all[col_name], labels= quantile_labels, q=quantile_list)"
   ]
  },
  {
   "cell_type": "code",
   "execution_count": 14,
   "metadata": {},
   "outputs": [
    {
     "data": {
      "text/html": [
       "<div>\n",
       "<style scoped>\n",
       "    .dataframe tbody tr th:only-of-type {\n",
       "        vertical-align: middle;\n",
       "    }\n",
       "\n",
       "    .dataframe tbody tr th {\n",
       "        vertical-align: top;\n",
       "    }\n",
       "\n",
       "    .dataframe thead th {\n",
       "        text-align: right;\n",
       "    }\n",
       "</style>\n",
       "<table border=\"1\" class=\"dataframe\">\n",
       "  <thead>\n",
       "    <tr style=\"text-align: right;\">\n",
       "      <th></th>\n",
       "      <th>age</th>\n",
       "      <th>mets_achieved</th>\n",
       "      <th>resting_systolic</th>\n",
       "      <th>resting_diastolic</th>\n",
       "      <th>peak_diastolic</th>\n",
       "      <th>reason</th>\n",
       "      <th>htnresponse</th>\n",
       "      <th>k0wncad</th>\n",
       "      <th>dm</th>\n",
       "      <th>aspirin</th>\n",
       "      <th>hyperlipid</th>\n",
       "      <th>black</th>\n",
       "      <th>percent_hr_achieved</th>\n",
       "      <th>newHTN</th>\n",
       "    </tr>\n",
       "  </thead>\n",
       "  <tbody>\n",
       "    <tr>\n",
       "      <th>1</th>\n",
       "      <td>4</td>\n",
       "      <td>1</td>\n",
       "      <td>2</td>\n",
       "      <td>1</td>\n",
       "      <td>3</td>\n",
       "      <td>Chest Pain</td>\n",
       "      <td>0</td>\n",
       "      <td>0</td>\n",
       "      <td>0</td>\n",
       "      <td>0</td>\n",
       "      <td>0</td>\n",
       "      <td>1</td>\n",
       "      <td>2</td>\n",
       "      <td>1</td>\n",
       "    </tr>\n",
       "    <tr>\n",
       "      <th>3</th>\n",
       "      <td>2</td>\n",
       "      <td>3</td>\n",
       "      <td>4</td>\n",
       "      <td>4</td>\n",
       "      <td>2</td>\n",
       "      <td>Chest Pain</td>\n",
       "      <td>0</td>\n",
       "      <td>0</td>\n",
       "      <td>0</td>\n",
       "      <td>0</td>\n",
       "      <td>1</td>\n",
       "      <td>0</td>\n",
       "      <td>3</td>\n",
       "      <td>1</td>\n",
       "    </tr>\n",
       "    <tr>\n",
       "      <th>4</th>\n",
       "      <td>4</td>\n",
       "      <td>1</td>\n",
       "      <td>4</td>\n",
       "      <td>2</td>\n",
       "      <td>1</td>\n",
       "      <td>Ab0rmal Test</td>\n",
       "      <td>0</td>\n",
       "      <td>0</td>\n",
       "      <td>0</td>\n",
       "      <td>0</td>\n",
       "      <td>1</td>\n",
       "      <td>0</td>\n",
       "      <td>2</td>\n",
       "      <td>0</td>\n",
       "    </tr>\n",
       "    <tr>\n",
       "      <th>5</th>\n",
       "      <td>2</td>\n",
       "      <td>3</td>\n",
       "      <td>1</td>\n",
       "      <td>1</td>\n",
       "      <td>1</td>\n",
       "      <td>Chest Pain</td>\n",
       "      <td>0</td>\n",
       "      <td>0</td>\n",
       "      <td>0</td>\n",
       "      <td>0</td>\n",
       "      <td>0</td>\n",
       "      <td>1</td>\n",
       "      <td>3</td>\n",
       "      <td>0</td>\n",
       "    </tr>\n",
       "    <tr>\n",
       "      <th>6</th>\n",
       "      <td>3</td>\n",
       "      <td>2</td>\n",
       "      <td>2</td>\n",
       "      <td>3</td>\n",
       "      <td>2</td>\n",
       "      <td>Rule out Ischemia</td>\n",
       "      <td>0</td>\n",
       "      <td>0</td>\n",
       "      <td>0</td>\n",
       "      <td>0</td>\n",
       "      <td>0</td>\n",
       "      <td>0</td>\n",
       "      <td>4</td>\n",
       "      <td>1</td>\n",
       "    </tr>\n",
       "  </tbody>\n",
       "</table>\n",
       "</div>"
      ],
      "text/plain": [
       "  age mets_achieved resting_systolic resting_diastolic peak_diastolic  \\\n",
       "1   4             1                2                 1              3   \n",
       "3   2             3                4                 4              2   \n",
       "4   4             1                4                 2              1   \n",
       "5   2             3                1                 1              1   \n",
       "6   3             2                2                 3              2   \n",
       "\n",
       "              reason  htnresponse  k0wncad  dm  aspirin  hyperlipid  black  \\\n",
       "1         Chest Pain            0        0   0        0           0      1   \n",
       "3         Chest Pain            0        0   0        0           1      0   \n",
       "4       Ab0rmal Test            0        0   0        0           1      0   \n",
       "5         Chest Pain            0        0   0        0           0      1   \n",
       "6  Rule out Ischemia            0        0   0        0           0      0   \n",
       "\n",
       "  percent_hr_achieved  newHTN  \n",
       "1                   2       1  \n",
       "3                   3       1  \n",
       "4                   2       0  \n",
       "5                   3       0  \n",
       "6                   4       1  "
      ]
     },
     "execution_count": 14,
     "metadata": {},
     "output_type": "execute_result"
    }
   ],
   "source": [
    "df_all.head()"
   ]
  },
  {
   "cell_type": "markdown",
   "metadata": {},
   "source": [
    "### Extract Used Features"
   ]
  },
  {
   "cell_type": "code",
   "execution_count": 15,
   "metadata": {},
   "outputs": [],
   "source": [
    "df_feats = df_all[[\"age\",\"mets_achieved\",\"resting_systolic\",\"resting_diastolic\",\"peak_diastolic\",\"reason\",\"htnresponse\",\"k0wncad\",\"dm\",\"aspirin\",\"hyperlipid\",\"black\",\"percent_hr_achieved\"]]\n",
    "df_target = df_all[[\"newHTN\"]]"
   ]
  },
  {
   "cell_type": "code",
   "execution_count": 16,
   "metadata": {},
   "outputs": [
    {
     "name": "stdout",
     "output_type": "stream",
     "text": [
      "<class 'pandas.core.frame.DataFrame'>\n",
      "Int64Index: 21515 entries, 1 to 23094\n",
      "Data columns (total 13 columns):\n",
      "age                    21515 non-null category\n",
      "mets_achieved          21515 non-null category\n",
      "resting_systolic       21515 non-null category\n",
      "resting_diastolic      21515 non-null category\n",
      "peak_diastolic         21515 non-null category\n",
      "reason                 21515 non-null object\n",
      "htnresponse            21515 non-null int64\n",
      "k0wncad                21515 non-null int64\n",
      "dm                     21515 non-null int64\n",
      "aspirin                21515 non-null int64\n",
      "hyperlipid             21515 non-null int64\n",
      "black                  21515 non-null int64\n",
      "percent_hr_achieved    21515 non-null category\n",
      "dtypes: category(6), int64(6), object(1)\n",
      "memory usage: 1.4+ MB\n"
     ]
    }
   ],
   "source": [
    "df_feats.info()"
   ]
  },
  {
   "cell_type": "markdown",
   "metadata": {},
   "source": [
    "### Generate a label encoding scheme for the 'reason' attribute"
   ]
  },
  {
   "cell_type": "code",
   "execution_count": 17,
   "metadata": {},
   "outputs": [
    {
     "data": {
      "text/plain": [
       "array(['Chest Pain', 'Ab0rmal Test', 'Rule out Ischemia', 'K0wn CAD',\n",
       "       'Pre-Operation', 'Shortness of Breath', 'Other', 'Arrhythmia',\n",
       "       'Palpitation', 'Screening, Research', 'Dizzy, Fatigue',\n",
       "       'Risk Factor', 'Conduction System Disease'], dtype=object)"
      ]
     },
     "execution_count": 17,
     "metadata": {},
     "output_type": "execute_result"
    }
   ],
   "source": [
    "df_feats.reason.unique()"
   ]
  },
  {
   "cell_type": "code",
   "execution_count": 18,
   "metadata": {},
   "outputs": [
    {
     "data": {
      "text/plain": [
       "{0: 'Ab0rmal Test',\n",
       " 1: 'Arrhythmia',\n",
       " 2: 'Chest Pain',\n",
       " 3: 'Conduction System Disease',\n",
       " 4: 'Dizzy, Fatigue',\n",
       " 5: 'K0wn CAD',\n",
       " 6: 'Other',\n",
       " 7: 'Palpitation',\n",
       " 8: 'Pre-Operation',\n",
       " 9: 'Risk Factor',\n",
       " 10: 'Rule out Ischemia',\n",
       " 11: 'Screening, Research',\n",
       " 12: 'Shortness of Breath'}"
      ]
     },
     "execution_count": 18,
     "metadata": {},
     "output_type": "execute_result"
    }
   ],
   "source": [
    "from sklearn.preprocessing import LabelEncoder\n",
    "le = LabelEncoder()\n",
    "reason_labels = le.fit_transform(df_feats['reason'])\n",
    "reason_mappings = {index: label for index, label in enumerate(le.classes_)}\n",
    "reason_mappings"
   ]
  },
  {
   "cell_type": "code",
   "execution_count": 19,
   "metadata": {},
   "outputs": [],
   "source": [
    "df_feats['reason'] = reason_labels"
   ]
  },
  {
   "cell_type": "code",
   "execution_count": 20,
   "metadata": {},
   "outputs": [
    {
     "data": {
      "text/html": [
       "<div>\n",
       "<style scoped>\n",
       "    .dataframe tbody tr th:only-of-type {\n",
       "        vertical-align: middle;\n",
       "    }\n",
       "\n",
       "    .dataframe tbody tr th {\n",
       "        vertical-align: top;\n",
       "    }\n",
       "\n",
       "    .dataframe thead th {\n",
       "        text-align: right;\n",
       "    }\n",
       "</style>\n",
       "<table border=\"1\" class=\"dataframe\">\n",
       "  <thead>\n",
       "    <tr style=\"text-align: right;\">\n",
       "      <th></th>\n",
       "      <th>age</th>\n",
       "      <th>mets_achieved</th>\n",
       "      <th>resting_systolic</th>\n",
       "      <th>resting_diastolic</th>\n",
       "      <th>peak_diastolic</th>\n",
       "      <th>reason</th>\n",
       "      <th>htnresponse</th>\n",
       "      <th>k0wncad</th>\n",
       "      <th>dm</th>\n",
       "      <th>aspirin</th>\n",
       "      <th>hyperlipid</th>\n",
       "      <th>black</th>\n",
       "      <th>percent_hr_achieved</th>\n",
       "    </tr>\n",
       "  </thead>\n",
       "  <tbody>\n",
       "    <tr>\n",
       "      <th>1</th>\n",
       "      <td>4</td>\n",
       "      <td>1</td>\n",
       "      <td>2</td>\n",
       "      <td>1</td>\n",
       "      <td>3</td>\n",
       "      <td>2</td>\n",
       "      <td>0</td>\n",
       "      <td>0</td>\n",
       "      <td>0</td>\n",
       "      <td>0</td>\n",
       "      <td>0</td>\n",
       "      <td>1</td>\n",
       "      <td>2</td>\n",
       "    </tr>\n",
       "    <tr>\n",
       "      <th>3</th>\n",
       "      <td>2</td>\n",
       "      <td>3</td>\n",
       "      <td>4</td>\n",
       "      <td>4</td>\n",
       "      <td>2</td>\n",
       "      <td>2</td>\n",
       "      <td>0</td>\n",
       "      <td>0</td>\n",
       "      <td>0</td>\n",
       "      <td>0</td>\n",
       "      <td>1</td>\n",
       "      <td>0</td>\n",
       "      <td>3</td>\n",
       "    </tr>\n",
       "    <tr>\n",
       "      <th>4</th>\n",
       "      <td>4</td>\n",
       "      <td>1</td>\n",
       "      <td>4</td>\n",
       "      <td>2</td>\n",
       "      <td>1</td>\n",
       "      <td>0</td>\n",
       "      <td>0</td>\n",
       "      <td>0</td>\n",
       "      <td>0</td>\n",
       "      <td>0</td>\n",
       "      <td>1</td>\n",
       "      <td>0</td>\n",
       "      <td>2</td>\n",
       "    </tr>\n",
       "    <tr>\n",
       "      <th>5</th>\n",
       "      <td>2</td>\n",
       "      <td>3</td>\n",
       "      <td>1</td>\n",
       "      <td>1</td>\n",
       "      <td>1</td>\n",
       "      <td>2</td>\n",
       "      <td>0</td>\n",
       "      <td>0</td>\n",
       "      <td>0</td>\n",
       "      <td>0</td>\n",
       "      <td>0</td>\n",
       "      <td>1</td>\n",
       "      <td>3</td>\n",
       "    </tr>\n",
       "    <tr>\n",
       "      <th>6</th>\n",
       "      <td>3</td>\n",
       "      <td>2</td>\n",
       "      <td>2</td>\n",
       "      <td>3</td>\n",
       "      <td>2</td>\n",
       "      <td>10</td>\n",
       "      <td>0</td>\n",
       "      <td>0</td>\n",
       "      <td>0</td>\n",
       "      <td>0</td>\n",
       "      <td>0</td>\n",
       "      <td>0</td>\n",
       "      <td>4</td>\n",
       "    </tr>\n",
       "  </tbody>\n",
       "</table>\n",
       "</div>"
      ],
      "text/plain": [
       "  age mets_achieved resting_systolic resting_diastolic peak_diastolic  reason  \\\n",
       "1   4             1                2                 1              3       2   \n",
       "3   2             3                4                 4              2       2   \n",
       "4   4             1                4                 2              1       0   \n",
       "5   2             3                1                 1              1       2   \n",
       "6   3             2                2                 3              2      10   \n",
       "\n",
       "   htnresponse  k0wncad  dm  aspirin  hyperlipid  black percent_hr_achieved  \n",
       "1            0        0   0        0           0      1                   2  \n",
       "3            0        0   0        0           1      0                   3  \n",
       "4            0        0   0        0           1      0                   2  \n",
       "5            0        0   0        0           0      1                   3  \n",
       "6            0        0   0        0           0      0                   4  "
      ]
     },
     "execution_count": 20,
     "metadata": {},
     "output_type": "execute_result"
    }
   ],
   "source": [
    "df_feats.head()"
   ]
  },
  {
   "cell_type": "markdown",
   "metadata": {},
   "source": [
    "### Handling class imbalance with SMOTE"
   ]
  },
  {
   "cell_type": "code",
   "execution_count": 21,
   "metadata": {},
   "outputs": [
    {
     "data": {
      "text/plain": [
       "7302"
      ]
     },
     "execution_count": 21,
     "metadata": {},
     "output_type": "execute_result"
    }
   ],
   "source": [
    "df_target.newHTN.sum()"
   ]
  },
  {
   "cell_type": "markdown",
   "metadata": {},
   "source": [
    "Number of positive class instances = 7302, and negative class instances = 14213"
   ]
  },
  {
   "cell_type": "code",
   "execution_count": 22,
   "metadata": {},
   "outputs": [
    {
     "name": "stdout",
     "output_type": "stream",
     "text": [
      "Original dataset shape Counter({0: 14213, 1: 7302})\n"
     ]
    },
    {
     "name": "stderr",
     "output_type": "stream",
     "text": [
      "C:\\Users\\Sara\\Anaconda3\\envs\\nano\\lib\\site-packages\\sklearn\\utils\\validation.py:578: DataConversionWarning: A column-vector y was passed when a 1d array was expected. Please change the shape of y to (n_samples, ), for example using ravel().\n",
      "  y = column_or_1d(y, warn=True)\n"
     ]
    },
    {
     "name": "stdout",
     "output_type": "stream",
     "text": [
      "Resampled dataset shape Counter({1: 14213, 0: 14213})\n"
     ]
    }
   ],
   "source": [
    "from collections import Counter\n",
    "from sklearn.datasets import make_classification\n",
    "from imblearn.over_sampling import SMOTE \n",
    "\n",
    "X, y = df_feats, df_target\n",
    "print('Original dataset shape {}'.format(Counter(y['newHTN'])))\n",
    "sm = SMOTE(random_state=42)\n",
    "\n",
    "X_res, y_res = sm.fit_sample(X, y)\n",
    "X_resampled = pd.DataFrame(X_res)\n",
    "X_resampled.columns = X.columns\n",
    "y_resampled = pd.DataFrame(y_res)\n",
    "y_resampled.columns = y.columns\n",
    "\n",
    "print('Resampled dataset shape {}'.format(Counter(y_res)))"
   ]
  },
  {
   "cell_type": "code",
   "execution_count": 23,
   "metadata": {},
   "outputs": [],
   "source": [
    "# recover labels for categorical attributes after resampling\n",
    "X_resampled = X_resampled.round()"
   ]
  },
  {
   "cell_type": "markdown",
   "metadata": {},
   "source": [
    "## Train-Test Split"
   ]
  },
  {
   "cell_type": "code",
   "execution_count": 24,
   "metadata": {},
   "outputs": [
    {
     "name": "stdout",
     "output_type": "stream",
     "text": [
      "(19898, 13)\n",
      "(8528, 13)\n",
      "(19898, 1)\n",
      "(8528, 1)\n"
     ]
    }
   ],
   "source": [
    "from sklearn.model_selection import train_test_split\n",
    "\n",
    "# Split into 70% training and 30% testing set\n",
    "X, X_test, y, y_test = train_test_split(X_resampled, y_resampled, test_size = 0.3, random_state = 42)\n",
    "\n",
    "print(X.shape)\n",
    "print(X_test.shape)\n",
    "print(y.shape)\n",
    "print(y_test.shape)"
   ]
  },
  {
   "cell_type": "markdown",
   "metadata": {},
   "source": [
    "## Baseline model"
   ]
  },
  {
   "cell_type": "code",
   "execution_count": 25,
   "metadata": {},
   "outputs": [],
   "source": [
    "# Calculate mean absolute error\n",
    "def mean_abs_error(y_true, y_pred):\n",
    "    return np.mean(abs(y_true - y_pred))"
   ]
  },
  {
   "cell_type": "code",
   "execution_count": 26,
   "metadata": {},
   "outputs": [
    {
     "name": "stdout",
     "output_type": "stream",
     "text": [
      "The baseline guess is a score of 0.50\n",
      "Baseline Performance on the test set: MAE = 0.5000\n"
     ]
    }
   ],
   "source": [
    "baseline_guess = np.mean(y)\n",
    "\n",
    "print('The baseline guess is a score of %0.2f' % baseline_guess)\n",
    "print(\"Baseline Performance on the test set: MAE = %0.4f\" % mean_abs_error(y_test, baseline_guess))"
   ]
  },
  {
   "cell_type": "markdown",
   "metadata": {},
   "source": [
    "The naive method of guessing the median training value provides us a low baseline for our models to beat! "
   ]
  },
  {
   "cell_type": "code",
   "execution_count": 27,
   "metadata": {},
   "outputs": [],
   "source": [
    "# Save the cleaned data\n",
    "X.to_csv('data/training_features.csv', index = False)\n",
    "X_test.to_csv('data/testing_features.csv', index = False)\n",
    "y.to_csv('data/training_labels.csv', index = False)\n",
    "y_test.to_csv('data/testing_labels.csv', index = False)"
   ]
  },
  {
   "cell_type": "markdown",
   "metadata": {},
   "source": [
    "# ML Models\n",
    "The data will be trained using three models (ANN, Random Forest and SVM)"
   ]
  },
  {
   "cell_type": "code",
   "execution_count": 28,
   "metadata": {},
   "outputs": [],
   "source": [
    "# Convert X, y to arrays (vector)\n",
    "X = np.array(X)\n",
    "X_test = np.array(X_test)\n",
    "y = np.array(y).reshape((-1, ))\n",
    "y_test = np.array(y_test).reshape((-1, ))"
   ]
  },
  {
   "cell_type": "code",
   "execution_count": 29,
   "metadata": {},
   "outputs": [],
   "source": [
    "from sklearn.neural_network import MLPClassifier\n",
    "from sklearn.ensemble import RandomForestClassifier, GradientBoostingClassifier\n",
    "from sklearn.svm import SVC\n",
    "from sklearn.metrics import accuracy_score"
   ]
  },
  {
   "cell_type": "code",
   "execution_count": 30,
   "metadata": {},
   "outputs": [],
   "source": [
    "# Function to calculate mean absolute error\n",
    "def mean_absolute_error(y_true, y_pred):\n",
    "    return np.mean(abs(y_true - y_pred))\n",
    "\n",
    "# Takes in a model, trains the model, and evaluates the model on the test set\n",
    "def fit_and_evaluate(model):\n",
    "    \n",
    "    # Train the model\n",
    "    model.fit(X, y)\n",
    "    \n",
    "    # Make predictions and evalute\n",
    "    model_pred = model.predict(X_test)\n",
    "    model_mae = mean_absolute_error(y_test, model_pred)\n",
    "    acc = accuracy_score(y_test, model_pred)\n",
    "    # Return the performance metric\n",
    "    return model_mae, acc"
   ]
  },
  {
   "cell_type": "code",
   "execution_count": 31,
   "metadata": {},
   "outputs": [
    {
     "name": "stdout",
     "output_type": "stream",
     "text": [
      "Multilayer Perceptron Classifier Performance on the test set: MAE = 0.3633\n",
      "Accuracy: 0.6367\n"
     ]
    }
   ],
   "source": [
    "# Multi-layer perceptron classifier\n",
    "ANN = MLPClassifier()\n",
    "ANN_mae, accuracy = fit_and_evaluate(ANN)\n",
    "\n",
    "print('Multilayer Perceptron Classifier Performance on the test set: MAE = %0.4f' % ANN_mae)\n",
    "print('Accuracy: %0.4f' % accuracy)"
   ]
  },
  {
   "cell_type": "code",
   "execution_count": 32,
   "metadata": {},
   "outputs": [
    {
     "name": "stdout",
     "output_type": "stream",
     "text": [
      "Random Forest Classifier Performance on the test set: MAE = 0.2724\n",
      "Accuracy: 0.7276\n"
     ]
    }
   ],
   "source": [
    "# Random Forest classifier\n",
    "rtf = RandomForestClassifier(n_estimators= 1100)\n",
    "rtf_mae, accuracy = fit_and_evaluate(rtf)\n",
    "\n",
    "print('Random Forest Classifier Performance on the test set: MAE = %0.4f' % rtf_mae)\n",
    "print('Accuracy: %0.4f' % accuracy)"
   ]
  },
  {
   "cell_type": "code",
   "execution_count": 33,
   "metadata": {},
   "outputs": [
    {
     "name": "stdout",
     "output_type": "stream",
     "text": [
      "Support Vector Machine Classifier Performance on the test set: MAE = 0.3548\n",
      "Accuracy: 0.6452\n"
     ]
    }
   ],
   "source": [
    "# Support vector machine classifier\n",
    "svm = SVC()\n",
    "svm_mae, accuracy = fit_and_evaluate(svm)\n",
    "\n",
    "print('Support Vector Machine Classifier Performance on the test set: MAE = %0.4f' % svm_mae)\n",
    "print('Accuracy: %0.4f' % accuracy)"
   ]
  },
  {
   "cell_type": "markdown",
   "metadata": {},
   "source": [
    "# Interpreting the RTF model with LIME"
   ]
  },
  {
   "cell_type": "code",
   "execution_count": 34,
   "metadata": {},
   "outputs": [],
   "source": [
    "preds = rtf.predict(X_test)\n",
    "\n",
    "# find correct and wrong predictions\n",
    "abs_diff = abs(preds - y_test)\n",
    "    \n",
    "# Exact the worst and best prediction\n",
    "wrong = X_test[np.argmax(abs_diff), :]\n",
    "correct = X_test[np.argmin(abs_diff), :]"
   ]
  },
  {
   "cell_type": "code",
   "execution_count": 39,
   "metadata": {},
   "outputs": [],
   "source": [
    "# LIME for explaining predictions\n",
    "import lime \n",
    "import lime.lime_tabular"
   ]
  },
  {
   "cell_type": "code",
   "execution_count": 40,
   "metadata": {},
   "outputs": [],
   "source": [
    "# Create a lime explainer object\n",
    "explainer = lime.lime_tabular.LimeTabularExplainer(training_data = X, \n",
    "                                                   mode = 'classification',\n",
    "                                                   training_labels = y,\n",
    "                                                   feature_names = df_feats.columns.tolist())"
   ]
  },
  {
   "cell_type": "code",
   "execution_count": 69,
   "metadata": {},
   "outputs": [
    {
     "name": "stdout",
     "output_type": "stream",
     "text": [
      "Prediction: 1\n",
      "Actual Value: 0\n"
     ]
    },
    {
     "data": {
      "image/png": "[encoded data removed]",
      "text/plain": [
       "<matplotlib.figure.Figure at 0x10edd518>"
      ]
     },
     "metadata": {},
     "output_type": "display_data"
    }
   ],
   "source": [
    "# Display the predicted and true value for the wrong example\n",
    "print('Prediction: %d' % rtf.predict(wrong.reshape(1, -1)))\n",
    "print('Actual Value: %d' % y_test[np.argmax(abs_diff)])\n",
    "\n",
    "# Explanation for wrong prediction\n",
    "wrong_exp = explainer.explain_instance(data_row = wrong, \n",
    "                                       predict_fn = rtf.predict_proba)\n",
    "\n",
    "# Plot the prediction explaination\n",
    "wrong_exp.as_pyplot_figure();\n",
    "plt.title('Explanation of Wrong Prediction', size = 28);\n",
    "plt.xlabel('Effect on Prediction', size = 22);"
   ]
  },
  {
   "cell_type": "code",
   "execution_count": 42,
   "metadata": {
    "collapsed": true
   },
   "outputs": [
    {
     "data": {
      "text/plain": [
       "age                    2.0\n",
       "mets_achieved          1.0\n",
       "resting_systolic       3.0\n",
       "resting_diastolic      4.0\n",
       "peak_diastolic         3.0\n",
       "reason                 2.0\n",
       "htnresponse            0.0\n",
       "k0wncad                0.0\n",
       "dm                     0.0\n",
       "aspirin                0.0\n",
       "hyperlipid             1.0\n",
       "black                  1.0\n",
       "percent_hr_achieved    3.0\n",
       "dtype: float64"
      ]
     },
     "execution_count": 42,
     "metadata": {},
     "output_type": "execute_result"
    }
   ],
   "source": [
    "wrong\n",
    "wrong_df = pd.Series(wrong, index=df_feats.columns )\n",
    "wrong_df"
   ]
  },
  {
   "cell_type": "code",
   "execution_count": 44,
   "metadata": {},
   "outputs": [
    {
     "name": "stdout",
     "output_type": "stream",
     "text": [
      "Prediction: 0\n",
      "Actual Value: 0\n"
     ]
    },
    {
     "data": {
      "image/png": "[encoded data removed]",
      "text/plain": [
       "<matplotlib.figure.Figure at 0x10edfe48>"
      ]
     },
     "metadata": {},
     "output_type": "display_data"
    }
   ],
   "source": [
    "# Display the predicted and true value for the wrong instance\n",
    "print('Prediction: %d' % rtf.predict(correct.reshape(1, -1)))\n",
    "print('Actual Value: %d' % y_test[np.argmin(abs_diff)])\n",
    "\n",
    "# Explanation for wrong prediction\n",
    "correct_exp = explainer.explain_instance(correct, rtf.predict_proba)\n",
    "correct_exp.as_pyplot_figure();\n",
    "plt.title('Explanation of Correct Prediction', size = 28);\n",
    "plt.xlabel('Effect on Prediction', size = 22);"
   ]
  },
  {
   "cell_type": "code",
   "execution_count": 45,
   "metadata": {},
   "outputs": [],
   "source": [
    "correct_df = pd.Series(correct, index=df_feats.columns )\n"
   ]
  },
  {
   "cell_type": "code",
   "execution_count": 46,
   "metadata": {
    "collapsed": true
   },
   "outputs": [
    {
     "data": {
      "text/plain": [
       "age                    3.0\n",
       "mets_achieved          1.0\n",
       "resting_systolic       1.0\n",
       "resting_diastolic      4.0\n",
       "peak_diastolic         3.0\n",
       "reason                 2.0\n",
       "htnresponse            0.0\n",
       "k0wncad                0.0\n",
       "dm                     0.0\n",
       "aspirin                0.0\n",
       "hyperlipid             1.0\n",
       "black                  0.0\n",
       "percent_hr_achieved    3.0\n",
       "dtype: float64"
      ]
     },
     "execution_count": 46,
     "metadata": {},
     "output_type": "execute_result"
    }
   ],
   "source": [
    "correct_df"
   ]
  },
  {
   "cell_type": "code",
   "execution_count": null,
   "metadata": {},
   "outputs": [],
   "source": []
  }
 ],
 "metadata": {
  "kernelspec": {
   "display_name": "Python 3",
   "language": "python",
   "name": "python3"
  },
  "language_info": {
   "codemirror_mode": {
    "name": "ipython",
    "version": 3
   },
   "file_extension": ".py",
   "mimetype": "text/x-python",
   "name": "python",
   "nbconvert_exporter": "python",
   "pygments_lexer": "ipython3",
   "version": "3.6.3"
  }
 },
 "nbformat": 4,
 "nbformat_minor": 2
}
